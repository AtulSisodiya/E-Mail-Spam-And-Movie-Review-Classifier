{
 "cells": [
  {
   "cell_type": "markdown",
   "metadata": {},
   "source": [
    "## Natural Language Processing:\n",
    "\n",
    "- What is Tokenization\n",
    "- Stemming\n",
    "- Lemmatization\n",
    "- Stopwords"
   ]
  },
  {
   "cell_type": "code",
   "execution_count": 1,
   "metadata": {},
   "outputs": [],
   "source": [
    "import nltk\n",
    "# nltk.download()"
   ]
  },
  {
   "cell_type": "code",
   "execution_count": 2,
   "metadata": {},
   "outputs": [],
   "source": [
    "paragraph=\"\"\"Plot is a literary term used to describe the events that make up a story,\n",
    "or the main part of a story. These events relate to each other in a pattern or a sequence. \n",
    "The structure of a novel depends on the. organization of events in the plot of the story\n",
    "Plot is known as the foundation of a novel.or story,  around which the characters and settings are built.\n",
    "It is meant to organize information and events in a logical manner.\n",
    "When writing the plot of a piece of literature, the author has to be careful that \n",
    "it does not dominate the other parts of the story.\"\"\""
   ]
  },
  {
   "cell_type": "code",
   "execution_count": 3,
   "metadata": {},
   "outputs": [],
   "source": [
    "# Tokenization\n",
    "sen=nltk.sent_tokenize(paragraph)\n",
    "words=nltk.word_tokenize(paragraph)\n"
   ]
  },
  {
   "cell_type": "code",
   "execution_count": 4,
   "metadata": {},
   "outputs": [
    {
     "data": {
      "text/plain": [
       "['Plot is a literary term used to describe the events that make up a story,\\nor the main part of a story.',\n",
       " 'These events relate to each other in a pattern or a sequence.',\n",
       " 'The structure of a novel depends on the.',\n",
       " 'organization of events in the plot of the story\\nPlot is known as the foundation of a novel.or story,  around which the characters and settings are built.',\n",
       " 'It is meant to organize information and events in a logical manner.',\n",
       " 'When writing the plot of a piece of literature, the author has to be careful that \\nit does not dominate the other parts of the story.']"
      ]
     },
     "execution_count": 4,
     "metadata": {},
     "output_type": "execute_result"
    }
   ],
   "source": [
    "sen"
   ]
  },
  {
   "cell_type": "code",
   "execution_count": 5,
   "metadata": {},
   "outputs": [
    {
     "data": {
      "text/plain": [
       "['Plot',\n",
       " 'is',\n",
       " 'a',\n",
       " 'literary',\n",
       " 'term',\n",
       " 'used',\n",
       " 'to',\n",
       " 'describe',\n",
       " 'the',\n",
       " 'events',\n",
       " 'that',\n",
       " 'make',\n",
       " 'up',\n",
       " 'a',\n",
       " 'story',\n",
       " ',',\n",
       " 'or',\n",
       " 'the',\n",
       " 'main',\n",
       " 'part',\n",
       " 'of',\n",
       " 'a',\n",
       " 'story',\n",
       " '.',\n",
       " 'These',\n",
       " 'events',\n",
       " 'relate',\n",
       " 'to',\n",
       " 'each',\n",
       " 'other',\n",
       " 'in',\n",
       " 'a',\n",
       " 'pattern',\n",
       " 'or',\n",
       " 'a',\n",
       " 'sequence',\n",
       " '.',\n",
       " 'The',\n",
       " 'structure',\n",
       " 'of',\n",
       " 'a',\n",
       " 'novel',\n",
       " 'depends',\n",
       " 'on',\n",
       " 'the',\n",
       " '.',\n",
       " 'organization',\n",
       " 'of',\n",
       " 'events',\n",
       " 'in',\n",
       " 'the',\n",
       " 'plot',\n",
       " 'of',\n",
       " 'the',\n",
       " 'story',\n",
       " 'Plot',\n",
       " 'is',\n",
       " 'known',\n",
       " 'as',\n",
       " 'the',\n",
       " 'foundation',\n",
       " 'of',\n",
       " 'a',\n",
       " 'novel.or',\n",
       " 'story',\n",
       " ',',\n",
       " 'around',\n",
       " 'which',\n",
       " 'the',\n",
       " 'characters',\n",
       " 'and',\n",
       " 'settings',\n",
       " 'are',\n",
       " 'built',\n",
       " '.',\n",
       " 'It',\n",
       " 'is',\n",
       " 'meant',\n",
       " 'to',\n",
       " 'organize',\n",
       " 'information',\n",
       " 'and',\n",
       " 'events',\n",
       " 'in',\n",
       " 'a',\n",
       " 'logical',\n",
       " 'manner',\n",
       " '.',\n",
       " 'When',\n",
       " 'writing',\n",
       " 'the',\n",
       " 'plot',\n",
       " 'of',\n",
       " 'a',\n",
       " 'piece',\n",
       " 'of',\n",
       " 'literature',\n",
       " ',',\n",
       " 'the',\n",
       " 'author',\n",
       " 'has',\n",
       " 'to',\n",
       " 'be',\n",
       " 'careful',\n",
       " 'that',\n",
       " 'it',\n",
       " 'does',\n",
       " 'not',\n",
       " 'dominate',\n",
       " 'the',\n",
       " 'other',\n",
       " 'parts',\n",
       " 'of',\n",
       " 'the',\n",
       " 'story',\n",
       " '.']"
      ]
     },
     "execution_count": 5,
     "metadata": {},
     "output_type": "execute_result"
    }
   ],
   "source": [
    "words"
   ]
  },
  {
   "cell_type": "code",
   "execution_count": 6,
   "metadata": {},
   "outputs": [
    {
     "data": {
      "text/plain": [
       "['plot is a literari term use to describ the event that make up a stori , or the main part of a stori .',\n",
       " 'these event relat to each other in a pattern or a sequenc .',\n",
       " 'the structur of a novel depend on the .',\n",
       " 'organ of event in the plot of the stori plot is known as the foundat of a novel.or stori , around which the charact and set are built .',\n",
       " 'It is meant to organ inform and event in a logic manner .',\n",
       " 'when write the plot of a piec of literatur , the author ha to be care that it doe not domin the other part of the stori .']"
      ]
     },
     "execution_count": 6,
     "metadata": {},
     "output_type": "execute_result"
    }
   ],
   "source": [
    "# Stemming\n",
    "from nltk.stem import PorterStemmer\n",
    "stemmer=PorterStemmer()\n",
    "new=[]\n",
    "for i in range(len(sen)):\n",
    "    words=nltk.word_tokenize(sen[i])\n",
    "    words=[stemmer.stem(word) for word in words]\n",
    "    new.append(' '.join(words))\n",
    "new\n",
    "\n",
    "# Lemmatization\n",
    "# from nltk.stem import WordNetLemmatizer\n",
    "# lemmatizer = WordNetLemmatizer()\n",
    "# new=[]\n",
    "\n",
    "    \n",
    "# for i in range(len(sen)):\n",
    "#     words=nltk.word_tokenize(sen[i])\n",
    "#     words=[lemmatizer.lemmatize(word) for word in words]\n",
    "#     new.append(' '.join(words))\n",
    "    "
   ]
  },
  {
   "cell_type": "code",
   "execution_count": 7,
   "metadata": {},
   "outputs": [
    {
     "data": {
      "text/plain": [
       "['plot literari term use describ event make stori , main part stori .',\n",
       " 'these event relat pattern sequenc .',\n",
       " 'the structur novel depend .',\n",
       " 'organ event plot stori plot known foundat novel.or stori , around charact set built .',\n",
       " 'It meant organ inform event logic manner .',\n",
       " 'when write plot piec literatur , author care domin part stori .']"
      ]
     },
     "execution_count": 7,
     "metadata": {},
     "output_type": "execute_result"
    }
   ],
   "source": [
    "# nltk.download('stopwords')\n",
    "from nltk.corpus import stopwords\n",
    "from nltk.stem import PorterStemmer\n",
    "stemmer=PorterStemmer()\n",
    "new=[]\n",
    "for i in range(len(sen)):\n",
    "    words=nltk.word_tokenize(sen[i])\n",
    "    words=[stemmer.stem(word) for word in words if word not in stopwords.words('english')]\n",
    "    new.append(' '.join(words))\n",
    "new"
   ]
  },
  {
   "cell_type": "markdown",
   "metadata": {},
   "source": [
    "- **term frequency(tf)**=[(no of frequency of a word in a sentence)/(total no of words in sentense)]\n",
    "\n",
    "- **IDF**=log[(no of sentenes)/(no of sentenses containing words)]\n",
    "\n",
    "- **tf-idf model**= Tf * IDF"
   ]
  },
  {
   "cell_type": "code",
   "execution_count": 8,
   "metadata": {},
   "outputs": [],
   "source": [
    "\n",
    "# from sklearn.feature_extraction.text import CountVectorizer\n",
    "# cv = CountVectorizer(max_features = 1500)\n",
    "\n",
    "# Document Matrix\n",
    "# Term Frequency Inverse Document matrix\n",
    "\n",
    "from sklearn.feature_extraction.text import TfidfVectorizer\n",
    "tv = TfidfVectorizer(max_features = 1500)\n",
    "features = tv.fit_transform(new).toarray()"
   ]
  },
  {
   "cell_type": "code",
   "execution_count": 9,
   "metadata": {},
   "outputs": [
    {
     "data": {
      "text/plain": [
       "array([[0.        , 0.        , 0.        , 0.        , 0.        ,\n",
       "        0.        , 0.32580269, 0.        , 0.19328543, 0.        ,\n",
       "        0.        , 0.        , 0.        , 0.32580269, 0.        ,\n",
       "        0.        , 0.32580269, 0.32580269, 0.        , 0.        ,\n",
       "        0.        , 0.        , 0.        , 0.26716287, 0.        ,\n",
       "        0.        , 0.22555725, 0.        , 0.        , 0.        ,\n",
       "        0.4511145 , 0.        , 0.32580269, 0.        , 0.        ,\n",
       "        0.32580269, 0.        , 0.        ],\n",
       "       [0.        , 0.        , 0.        , 0.        , 0.        ,\n",
       "        0.        , 0.        , 0.        , 0.28438205, 0.        ,\n",
       "        0.        , 0.        , 0.        , 0.        , 0.        ,\n",
       "        0.        , 0.        , 0.        , 0.        , 0.        ,\n",
       "        0.        , 0.        , 0.        , 0.        , 0.47935552,\n",
       "        0.        , 0.        , 0.47935552, 0.47935552, 0.        ,\n",
       "        0.        , 0.        , 0.        , 0.        , 0.47935552,\n",
       "        0.        , 0.        , 0.        ],\n",
       "       [0.        , 0.        , 0.        , 0.        , 0.        ,\n",
       "        0.52182349, 0.        , 0.        , 0.        , 0.        ,\n",
       "        0.        , 0.        , 0.        , 0.        , 0.        ,\n",
       "        0.        , 0.        , 0.        , 0.        , 0.        ,\n",
       "        0.42790272, 0.        , 0.        , 0.        , 0.        ,\n",
       "        0.        , 0.        , 0.        , 0.        , 0.        ,\n",
       "        0.        , 0.52182349, 0.        , 0.52182349, 0.        ,\n",
       "        0.        , 0.        , 0.        ],\n",
       "       [0.28249066, 0.        , 0.28249066, 0.        , 0.28249066,\n",
       "        0.        , 0.        , 0.        , 0.16759017, 0.28249066,\n",
       "        0.        , 0.        , 0.28249066, 0.        , 0.        ,\n",
       "        0.        , 0.        , 0.        , 0.        , 0.        ,\n",
       "        0.23164638, 0.28249066, 0.23164638, 0.        , 0.        ,\n",
       "        0.        , 0.39114359, 0.        , 0.        , 0.28249066,\n",
       "        0.39114359, 0.        , 0.        , 0.        , 0.        ,\n",
       "        0.        , 0.        , 0.        ],\n",
       "       [0.        , 0.        , 0.        , 0.        , 0.        ,\n",
       "        0.        , 0.        , 0.        , 0.24170647, 0.        ,\n",
       "        0.40742139, 0.40742139, 0.        , 0.        , 0.        ,\n",
       "        0.40742139, 0.        , 0.        , 0.40742139, 0.40742139,\n",
       "        0.        , 0.        , 0.33409137, 0.        , 0.        ,\n",
       "        0.        , 0.        , 0.        , 0.        , 0.        ,\n",
       "        0.        , 0.        , 0.        , 0.        , 0.        ,\n",
       "        0.        , 0.        , 0.        ],\n",
       "       [0.        , 0.34038391, 0.        , 0.34038391, 0.        ,\n",
       "        0.        , 0.        , 0.34038391, 0.        , 0.        ,\n",
       "        0.        , 0.        , 0.        , 0.        , 0.34038391,\n",
       "        0.        , 0.        , 0.        , 0.        , 0.        ,\n",
       "        0.        , 0.        , 0.        , 0.27911968, 0.        ,\n",
       "        0.34038391, 0.23565201, 0.        , 0.        , 0.        ,\n",
       "        0.23565201, 0.        , 0.        , 0.        , 0.        ,\n",
       "        0.        , 0.34038391, 0.34038391]])"
      ]
     },
     "execution_count": 9,
     "metadata": {},
     "output_type": "execute_result"
    }
   ],
   "source": [
    "features"
   ]
  },
  {
   "cell_type": "code",
   "execution_count": 10,
   "metadata": {},
   "outputs": [
    {
     "data": {
      "text/plain": [
       "(6, 38)"
      ]
     },
     "execution_count": 10,
     "metadata": {},
     "output_type": "execute_result"
    }
   ],
   "source": [
    "features.shape"
   ]
  }
 ],
 "metadata": {
  "kernelspec": {
   "display_name": "Python 3",
   "language": "python",
   "name": "python3"
  },
  "language_info": {
   "codemirror_mode": {
    "name": "ipython",
    "version": 3
   },
   "file_extension": ".py",
   "mimetype": "text/x-python",
   "name": "python",
   "nbconvert_exporter": "python",
   "pygments_lexer": "ipython3",
   "version": "3.6.4"
  }
 },
 "nbformat": 4,
 "nbformat_minor": 2
}
